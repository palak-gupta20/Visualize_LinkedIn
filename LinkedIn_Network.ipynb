{
  "nbformat": 4,
  "nbformat_minor": 0,
  "metadata": {
    "colab": {
      "name": "LinkedIn_Network.ipynb",
      "provenance": [],
      "authorship_tag": "ABX9TyPRZF718orhs0FcBJPRtiw/",
      "include_colab_link": true
    },
    "kernelspec": {
      "name": "python3",
      "display_name": "Python 3"
    },
    "language_info": {
      "name": "python"
    }
  },
  "cells": [
    {
      "cell_type": "markdown",
      "metadata": {
        "id": "view-in-github",
        "colab_type": "text"
      },
      "source": [
        "<a href=\"https://colab.research.google.com/github/palak-gupta20/Visualize_LinkedIn/blob/main/LinkedIn_Network.ipynb\" target=\"_parent\"><img src=\"https://colab.research.google.com/assets/colab-badge.svg\" alt=\"Open In Colab\"/></a>"
      ]
    },
    {
      "cell_type": "code",
      "source": [
        "!pip install pyjanitor pyvis --quiet"
      ],
      "metadata": {
        "id": "tXaS5ooZmfvI"
      },
      "execution_count": 4,
      "outputs": []
    },
    {
      "cell_type": "code",
      "source": [
        "import pandas as pd\n",
        "import janitor\n",
        "import datetime\n",
        "\n",
        "from IPython.core.display import display, HTML\n",
        "from pyvis import network as net\n",
        "import networkx as nx"
      ],
      "metadata": {
        "id": "wSiRg0hrmmOu"
      },
      "execution_count": 5,
      "outputs": []
    },
    {
      "cell_type": "code",
      "source": [
        ""
      ],
      "metadata": {
        "id": "qmvSjkgwmrc1"
      },
      "execution_count": null,
      "outputs": []
    }
  ]
}